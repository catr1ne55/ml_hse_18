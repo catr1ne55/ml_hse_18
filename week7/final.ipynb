{
 "cells": [
  {
   "cell_type": "code",
   "execution_count": 57,
   "metadata": {},
   "outputs": [],
   "source": [
    "import pandas as pd\n",
    "import numpy as np\n",
    "import matplotlib.pyplot as plt\n",
    "\n",
    "from sklearn.model_selection import KFold, cross_val_score\n",
    "from sklearn.ensemble import GradientBoostingClassifier\n",
    "from sklearn.linear_model import LogisticRegression\n",
    "from sklearn.preprocessing import StandardScaler\n",
    "from sklearn.metrics import roc_auc_score\n",
    "\n",
    "import time\n",
    "import datetime\n",
    "\n",
    "import warnings\n",
    "warnings.filterwarnings('ignore')\n",
    "\n",
    "%matplotlib inline"
   ]
  },
  {
   "cell_type": "markdown",
   "metadata": {},
   "source": [
    "# Подход 1: градиентный бустинг \"в лоб\""
   ]
  },
  {
   "cell_type": "markdown",
   "metadata": {},
   "source": [
    "### 1. Считайте таблицу с признаками из файла features.csv с помощью кода, приведенного выше. Удалите признаки, связанные с итогами матча (они помечены в описании данных как отсутствующие в тестовой выборке)"
   ]
  },
  {
   "cell_type": "code",
   "execution_count": 58,
   "metadata": {},
   "outputs": [],
   "source": [
    "features = pd.read_csv('./features.csv', index_col='match_id')\n",
    "\n",
    "features.drop(['duration', \n",
    "         'tower_status_radiant', \n",
    "         'tower_status_dire', \n",
    "         'barracks_status_radiant', \n",
    "         'barracks_status_dire'\n",
    "        ], axis=1, inplace=True)"
   ]
  },
  {
   "cell_type": "markdown",
   "metadata": {},
   "source": [
    "### 2. Проверьте выборку на наличие пропусков с помощью функции count(), которая для каждого столбца показывает число заполненных значений. Много ли пропусков в данных? Запишите названия признаков, имеющих пропуски, и попробуйте для любых двух из них дать обоснование, почему их значения могут быть пропущены."
   ]
  },
  {
   "cell_type": "code",
   "execution_count": 59,
   "metadata": {},
   "outputs": [
    {
     "data": {
      "text/plain": [
       "dire_courier_time              0.006953\n",
       "radiant_courier_time           0.007117\n",
       "dire_first_ward_time           0.018780\n",
       "radiant_first_ward_time        0.018883\n",
       "radiant_bottle_time            0.161380\n",
       "dire_bottle_time               0.166029\n",
       "first_blood_time               0.201100\n",
       "first_blood_team               0.201100\n",
       "first_blood_player1            0.201100\n",
       "dire_flying_courier_time       0.268415\n",
       "radiant_flying_courier_time    0.282619\n",
       "first_blood_player2            0.452402\n",
       "Name: count, dtype: float64"
      ]
     },
     "execution_count": 59,
     "metadata": {},
     "output_type": "execute_result"
    }
   ],
   "source": [
    "rows = len(features)\n",
    "\n",
    "counts = features.describe().T['count']\n",
    "na = counts[counts < rows]\n",
    "na.apply(lambda l: 1 - l/rows).sort_values()\n"
   ]
  },
  {
   "cell_type": "markdown",
   "metadata": {},
   "source": [
    "### 3. Замените пропуски на нули с помощью функции fillna(). На самом деле этот способ является предпочтительным для логистической регрессии, поскольку он позволит пропущенному значению не вносить никакого вклада в предсказание. Для деревьев часто лучшим вариантом оказывается замена пропуска на очень большое или очень маленькое значение — в этом случае при построении разбиения вершины можно будет отправить объекты с пропусками в отдельную ветвь дерева. Также есть и другие подходы — например, замена пропуска на среднее значение признака. Мы не требуем этого в задании, но при желании попробуйте разные подходы к обработке пропусков и сравните их между собой."
   ]
  },
  {
   "cell_type": "code",
   "execution_count": 60,
   "metadata": {},
   "outputs": [],
   "source": [
    "features = features.fillna(0)"
   ]
  },
  {
   "cell_type": "markdown",
   "metadata": {},
   "source": [
    "### 4. Какой столбец содержит целевую переменную? Запишите его название."
   ]
  },
  {
   "cell_type": "markdown",
   "metadata": {},
   "source": [
    "radiant_win"
   ]
  },
  {
   "cell_type": "markdown",
   "metadata": {},
   "source": [
    "### 5. Забудем, что в выборке есть категориальные признаки, и попробуем обучить градиентный бустинг над деревьями на имеющейся матрице \"объекты-признаки\". Зафиксируйте генератор разбиений для кросс-валидации по 5 блокам (KFold), не забудьте перемешать при этом выборку (shuffle=True), поскольку данные в таблице отсортированы по времени, и без перемешивания можно столкнуться с нежелательными эффектами при оценивании качества. Оцените качество градиентного бустинга (GradientBoostingClassifier) с помощью данной кросс-валидации, попробуйте при этом разное количество деревьев (как минимум протестируйте следующие значения для количества деревьев: 10, 20, 30). Долго ли настраивались классификаторы? Достигнут ли оптимум на испытанных значениях параметра n_estimators, или же качество, скорее всего, продолжит расти при дальнейшем его увеличении?"
   ]
  },
  {
   "cell_type": "code",
   "execution_count": 61,
   "metadata": {},
   "outputs": [],
   "source": [
    "X_train = features\n",
    "y_train = features['radiant_win'].values.ravel()\n",
    "del features['radiant_win']"
   ]
  },
  {
   "cell_type": "code",
   "execution_count": 62,
   "metadata": {},
   "outputs": [],
   "source": [
    "cv = KFold(n_splits = 5, shuffle=True)"
   ]
  },
  {
   "cell_type": "code",
   "execution_count": 63,
   "metadata": {},
   "outputs": [
    {
     "name": "stdout",
     "output_type": "stream",
     "text": [
      "Tree number:10 Time elapsed:      0:00:31.010271\n",
      "Tree number:20 Time elapsed:      0:00:56.817065\n",
      "Tree number:30 Time elapsed:      0:01:22.898167\n",
      "Tree number:40 Time elapsed:      0:01:49.180021\n",
      "Tree number:50 Time elapsed:      0:02:16.999313\n"
     ]
    }
   ],
   "source": [
    "scores = []\n",
    "tree_numbers = [10, 20, 30, 40, 50]\n",
    "for k in tree_numbers:\n",
    "    model = GradientBoostingClassifier(n_estimators=k)\n",
    "    \n",
    "    start_time = datetime.datetime.now()\n",
    "    current_scores = cross_val_score(model, X_train, y_train, cv=cv, scoring='roc_auc')\n",
    "    \n",
    "    print ('Tree number:' + str(k) + ' Time elapsed:      ' + str(datetime.datetime.now() - start_time))\n",
    "    scores.append(np.mean(current_scores))"
   ]
  },
  {
   "cell_type": "code",
   "execution_count": 64,
   "metadata": {},
   "outputs": [
    {
     "data": {
      "image/png": "[encoded data removed]",
      "text/plain": [
       "<Figure size 432x288 with 1 Axes>"
      ]
     },
     "metadata": {
      "needs_background": "light"
     },
     "output_type": "display_data"
    }
   ],
   "source": [
    "plt.plot(tree_numbers, scores)\n",
    "plt.xlabel('tree number')\n",
    "plt.ylabel('score')\n",
    "plt.show()"
   ]
  },
  {
   "cell_type": "code",
   "execution_count": 65,
   "metadata": {},
   "outputs": [
    {
     "data": {
      "text/plain": [
       "0.6894703037774905"
      ]
     },
     "execution_count": 65,
     "metadata": {},
     "output_type": "execute_result"
    }
   ],
   "source": [
    "scores[2]"
   ]
  },
  {
   "cell_type": "markdown",
   "metadata": {},
   "source": [
    "## Отчет"
   ]
  },
  {
   "cell_type": "markdown",
   "metadata": {},
   "source": [
    "### 1. Какие признаки имеют пропуски среди своих значений? Что могут означать пропуски в этих признаках (ответьте на этот вопрос для двух любых признаков)?"
   ]
  },
  {
   "cell_type": "markdown",
   "metadata": {},
   "source": [
    "dire_courier_time - команда не приобретает предмет \"courier\" за первые 5 минут игры в 0.6% случаев  \n",
    "radiant_courier_time - команда не приобретает предмет \"courier\" за первые 5 минут игры в 0.7% случаев   \n",
    "dire_first_ward_time - команда не ставит наблюдателя за первые 5 минут игры в 1.8% случаев  \n",
    "radiant_first_ward_time - команда не ставит наблюдателя за первые 5 минут игры в 1.8% случаев  \n",
    "radiant_bottle_time  \n",
    "dire_bottle_time  \n",
    "first_blood_time  \n",
    "first_blood_team  \n",
    "first_blood_player1  \n",
    "dire_flying_courier_time  \n",
    "radiant_flying_courier_time  \n",
    "first_blood_player2"
   ]
  },
  {
   "cell_type": "markdown",
   "metadata": {},
   "source": [
    "### 2. Как называется столбец, содержащий целевую переменную?"
   ]
  },
  {
   "cell_type": "markdown",
   "metadata": {},
   "source": [
    "radiant_win"
   ]
  },
  {
   "cell_type": "markdown",
   "metadata": {},
   "source": [
    "### 3. Как долго проводилась кросс-валидация для градиентного бустинга с 30 деревьями? Инструкцию по измерению времени можно найти ниже по тексту. Какое качество при этом получилось? Напомним, что в данном задании мы используем метрику качества AUC-ROC."
   ]
  },
  {
   "cell_type": "markdown",
   "metadata": {},
   "source": [
    "Время проведения кросс-валидации для градиентного бустинга с 30 деревьями: 0:01:22.  Полученное качество при таком количестве деревьев - 0.69."
   ]
  },
  {
   "cell_type": "markdown",
   "metadata": {},
   "source": [
    "### 4. Имеет ли смысл использовать больше 30 деревьев в градиентном бустинге? Что бы вы предложили делать, чтобы ускорить его обучение при увеличении количества деревьев?"
   ]
  },
  {
   "cell_type": "markdown",
   "metadata": {},
   "source": [
    "Использование больше 30 деревьев целесообразно, так как качество улучшается. Чтобы ускорить обучение можно брать не всю обучающую выборку, а какую-то ее часть, а также установить максимальную глубину деревьев."
   ]
  },
  {
   "cell_type": "markdown",
   "metadata": {},
   "source": [
    "# Подход 2: логистическая регрессия"
   ]
  },
  {
   "cell_type": "markdown",
   "metadata": {},
   "source": [
    "### 1. Оцените качество логистической регрессии (sklearn.linear_model.LogisticRegression с L2-регуляризацией) с помощью кросс-валидации по той же схеме, которая использовалась для градиентного бустинга. Подберите при этом лучший параметр регуляризации (C). Какое наилучшее качество у вас получилось? Как оно соотносится с качеством градиентного бустинга? Чем вы можете объяснить эту разницу? Быстрее ли работает логистическая регрессия по сравнению с градиентным бустингом?"
   ]
  },
  {
   "cell_type": "code",
   "execution_count": 66,
   "metadata": {},
   "outputs": [],
   "source": [
    "cv = KFold(n_splits = 5, shuffle=True)\n",
    "\n",
    "X_train = StandardScaler().fit_transform(X_train)"
   ]
  },
  {
   "cell_type": "code",
   "execution_count": 67,
   "metadata": {},
   "outputs": [
    {
     "name": "stdout",
     "output_type": "stream",
     "text": [
      "c :0.001 Time elapsed:      0:00:09.564734 [0.71526347 0.71313629 0.71698531 0.71838471 0.71815338]\n",
      "c :0.01 Time elapsed:      0:00:12.638360 [0.71203522 0.71281819 0.72186315 0.71912143 0.71631409]\n",
      "c :0.1 Time elapsed:      0:00:12.799519 [0.71357528 0.71857782 0.71374692 0.71745568 0.7190061 ]\n",
      "c :1.0 Time elapsed:      0:00:13.383352 [0.71125082 0.72173554 0.71513922 0.71695407 0.71679614]\n",
      "c :10.0 Time elapsed:      0:00:13.634857 [0.71589426 0.72474353 0.71386781 0.71489851 0.71326035]\n",
      "c :100.0 Time elapsed:      0:00:13.555687 [0.71654332 0.70682698 0.71567947 0.72146657 0.7210402 ]\n",
      "c :1000.0 Time elapsed:      0:00:13.522655 [0.71548196 0.71265383 0.71964735 0.71360558 0.72027398]\n",
      "c :10000.0 Time elapsed:      0:00:13.343057 [0.71785154 0.71424109 0.71741546 0.71615366 0.71637867]\n"
     ]
    }
   ],
   "source": [
    "scores = []\n",
    "pows = range(-3, 5)\n",
    "c_values = [10.0 ** i for i in pows]\n",
    "for c in c_values:\n",
    "    start_time = datetime.datetime.now()\n",
    "    model = LogisticRegression(C=c, random_state=42)\n",
    "    current_scores = cross_val_score(model, X_train, y_train, cv=cv, scoring='roc_auc')\n",
    "    print ('c :' + str(c) + ' Time elapsed:      ' + str(datetime.datetime.now() - start_time), current_scores)\n",
    "    scores.append(np.mean(current_scores))"
   ]
  },
  {
   "cell_type": "code",
   "execution_count": 68,
   "metadata": {},
   "outputs": [
    {
     "data": {
      "image/png": "[encoded data removed]",
      "text/plain": [
       "<Figure size 432x288 with 1 Axes>"
      ]
     },
     "metadata": {
      "needs_background": "light"
     },
     "output_type": "display_data"
    },
    {
     "name": "stdout",
     "output_type": "stream",
     "text": [
      "Scores: [0.7163846320341405, 0.7164304175536932, 0.7164723602251755, 0.71637515729087, 0.7165328931824468, 0.7163113086456058, 0.716332537564233, 0.7164080836571249] max: 0.7165328931824468\n",
      "Best C is  10.0\n"
     ]
    }
   ],
   "source": [
    "plt.plot(pows, scores)\n",
    "plt.xlabel('log(c)')\n",
    "plt.ylabel('score')\n",
    "plt.show()\n",
    "max_score = max(scores)\n",
    "print('Scores:', scores , 'max:', max_score)\n",
    "print('Best C is ', c_values[scores.index(max_score)])"
   ]
  },
  {
   "cell_type": "markdown",
   "metadata": {},
   "source": [
    "### 2. Среди признаков в выборке есть категориальные, которые мы использовали как числовые, что вряд ли является хорошей идеей. Категориальных признаков в этой задаче одиннадцать: lobby_type и r1_hero, r2_hero, ..., r5_hero, d1_hero, d2_hero, ..., d5_hero. Уберите их из выборки, и проведите кросс-валидацию для логистической регрессии на новой выборке с подбором лучшего параметра регуляризации. Изменилось ли качество? Чем вы можете это объяснить?"
   ]
  },
  {
   "cell_type": "code",
   "execution_count": 69,
   "metadata": {},
   "outputs": [
    {
     "name": "stdout",
     "output_type": "stream",
     "text": [
      "c :0.001 Time elapsed:      0:00:08.803515 [0.71905802 0.7167346  0.71645914 0.71245978 0.71569542]\n",
      "c :0.01 Time elapsed:      0:00:11.480586 [0.71774266 0.71581632 0.71645069 0.71714734 0.71548455]\n",
      "c :0.1 Time elapsed:      0:00:12.308379 [0.71717735 0.71516511 0.71489503 0.72060608 0.71316895]\n",
      "c :1.0 Time elapsed:      0:00:12.590885 [0.71688452 0.72202665 0.7182141  0.71358778 0.7119536 ]\n",
      "c :10.0 Time elapsed:      0:00:12.523479 [0.71659496 0.71472735 0.71248923 0.71698468 0.72134228]\n",
      "c :100.0 Time elapsed:      0:00:12.056615 [0.71915106 0.72046835 0.71899826 0.71222161 0.7118643 ]\n",
      "c :1000.0 Time elapsed:      0:00:12.482895 [0.71840258 0.71408324 0.71752518 0.71362473 0.7181471 ]\n",
      "c :10000.0 Time elapsed:      0:00:12.437650 [0.71801424 0.70920238 0.71802094 0.72220568 0.71540825]\n"
     ]
    }
   ],
   "source": [
    "features.drop(['lobby_type',\n",
    "    'r1_hero',\n",
    "    'r2_hero',\n",
    "    'r3_hero',\n",
    "    'r4_hero',\n",
    "    'r5_hero',\n",
    "    'd1_hero',\n",
    "    'd2_hero',\n",
    "    'd3_hero',\n",
    "    'd4_hero',\n",
    "    'd5_hero'],axis = 1, inplace = True)\n",
    "\n",
    "X_train = StandardScaler().fit_transform(features)\n",
    "\n",
    "scores = []\n",
    "for c in c_values:\n",
    "    start_time = datetime.datetime.now()\n",
    "    model = LogisticRegression(C=c, random_state=42)\n",
    "    current_scores = cross_val_score(model, X_train, y_train, cv=cv, scoring='roc_auc')\n",
    "    print ('c :' + str(c) + ' Time elapsed:      ' + str(datetime.datetime.now() - start_time), current_scores)\n",
    "    scores.append(np.mean(current_scores))"
   ]
  },
  {
   "cell_type": "code",
   "execution_count": 70,
   "metadata": {},
   "outputs": [
    {
     "data": {
      "image/png": "[encoded data removed]",
      "text/plain": [
       "<Figure size 432x288 with 1 Axes>"
      ]
     },
     "metadata": {
      "needs_background": "light"
     },
     "output_type": "display_data"
    },
    {
     "name": "stdout",
     "output_type": "stream",
     "text": [
      "Scores: [0.7160813897187912, 0.7165283104415716, 0.7162025040940305, 0.7165333305208247, 0.716427701334877, 0.7165407154172065, 0.7163565654610213, 0.716570299528914] max: 0.716570299528914\n",
      "Best C is  10000.0\n"
     ]
    }
   ],
   "source": [
    "plt.plot(pows, scores)\n",
    "plt.xlabel('log(c)')\n",
    "plt.ylabel('score')\n",
    "plt.show()\n",
    "max_score = max(scores)\n",
    "print('Scores:', scores , 'max:', max_score)\n",
    "print('Best C is ', c_values[scores.index(max_score)])"
   ]
  },
  {
   "cell_type": "markdown",
   "metadata": {},
   "source": [
    "### 3. На предыдущем шаге мы исключили из выборки признаки rM_hero и dM_hero, которые показывают, какие именно герои играли за каждую команду. Это важные признаки — герои имеют разные характеристики, и некоторые из них выигрывают чаще, чем другие. Выясните из данных, сколько различных идентификаторов героев существует в данной игре (вам может пригодиться фукнция unique или value_counts)."
   ]
  },
  {
   "cell_type": "code",
   "execution_count": 71,
   "metadata": {},
   "outputs": [
    {
     "data": {
      "text/plain": [
       "108"
      ]
     },
     "execution_count": 71,
     "metadata": {},
     "output_type": "execute_result"
    }
   ],
   "source": [
    "heroes = pd.read_csv('./features.csv', index_col='match_id')\n",
    "\n",
    "heroes.drop(['duration', \n",
    "         'tower_status_radiant', \n",
    "         'tower_status_dire', \n",
    "         'barracks_status_radiant', \n",
    "         'barracks_status_dire'\n",
    "        ], axis=1, inplace=True)\n",
    "heroes = heroes.fillna(0)\n",
    "\n",
    "l = ['r' + str(i) + '_hero' for i in range(1,6)]\n",
    "l += ['d' + str(i) + '_hero' for i in range(1,6)]\n",
    "len(np.unique(heroes[l].values))\n"
   ]
  },
  {
   "cell_type": "markdown",
   "metadata": {},
   "source": [
    "### 4. Воспользуемся подходом \"мешок слов\" для кодирования информации о героях. Пусть всего в игре имеет N различных героев. Сформируем N признаков, при этом i-й будет равен нулю, если i-й герой не участвовал в матче; единице, если i-й герой играл за команду Radiant; минус единице, если i-й герой играл за команду Dire. Ниже вы можете найти код, который выполняет данной преобразование. Добавьте полученные признаки к числовым, которые вы использовали во втором пункте данного этапа."
   ]
  },
  {
   "cell_type": "code",
   "execution_count": 72,
   "metadata": {},
   "outputs": [],
   "source": [
    "features = pd.read_csv('./features.csv', index_col='match_id')\n",
    "\n",
    "features.drop(['duration', \n",
    "         'tower_status_radiant', \n",
    "         'tower_status_dire', \n",
    "         'barracks_status_radiant', \n",
    "         'barracks_status_dire'\n",
    "        ], axis=1, inplace=True)\n",
    "\n",
    "features = features.fillna(0)\n",
    "del features['radiant_win']\n",
    "\n",
    "X_pick = np.zeros((features.shape[0], 112))\n",
    "\n",
    "for i, match_id in enumerate(features.index):\n",
    "    for p in range(5):\n",
    "        X_pick[i, features.ix[match_id, 'r%d_hero' % (p+1)]-1] = 1\n",
    "        X_pick[i, features.ix[match_id, 'd%d_hero' % (p+1)]-1] = -1\n",
    "        \n",
    "l += ['lobby_type']\n",
    "features.drop(l,axis = 1, inplace = True)\n",
    "\n",
    "X_train = np.hstack((features.values, X_pick))\n",
    "\n",
    "X_train = StandardScaler().fit_transform(X_train)"
   ]
  },
  {
   "cell_type": "markdown",
   "metadata": {},
   "source": [
    "### 5. Проведите кросс-валидацию для логистической регрессии на новой выборке с подбором лучшего параметра регуляризации. Какое получилось качество? Улучшилось ли оно? Чем вы можете это объяснить?"
   ]
  },
  {
   "cell_type": "code",
   "execution_count": 73,
   "metadata": {},
   "outputs": [
    {
     "name": "stdout",
     "output_type": "stream",
     "text": [
      "c :0.001 Time elapsed:      0:00:15.268899 [0.75066749 0.75446907 0.75186921 0.75328392 0.74870705]\n",
      "c :0.01 Time elapsed:      0:00:20.880925 [0.75460467 0.7563389  0.74283229 0.75696486 0.74815412]\n",
      "c :0.1 Time elapsed:      0:00:22.426084 [0.75103822 0.74831164 0.75145866 0.75227271 0.75601417]\n",
      "c :1.0 Time elapsed:      0:00:24.447592 [0.75773992 0.75024109 0.746453   0.75153402 0.75302784]\n",
      "c :10.0 Time elapsed:      0:00:22.572278 [0.75202616 0.75084395 0.75624092 0.75294311 0.74585489]\n",
      "c :100.0 Time elapsed:      0:00:22.690311 [0.75647142 0.75336675 0.74447303 0.75465195 0.75025072]\n",
      "c :1000.0 Time elapsed:      0:00:21.800370 [0.7517942  0.75149462 0.75667674 0.74984171 0.74840655]\n",
      "c :10000.0 Time elapsed:      0:00:22.671136 [0.74792492 0.75487542 0.7505294  0.75532817 0.7500739 ]\n"
     ]
    }
   ],
   "source": [
    "scores = []\n",
    "for c in c_values:\n",
    "    start_time = datetime.datetime.now()\n",
    "    model = LogisticRegression(C=c, random_state=42)\n",
    "    current_scores = cross_val_score(model, X_train, y_train, cv=cv, scoring='roc_auc')\n",
    "    print ('c :' + str(c) + ' Time elapsed:      ' + str(datetime.datetime.now() - start_time), current_scores)\n",
    "    scores.append(np.mean(current_scores))"
   ]
  },
  {
   "cell_type": "code",
   "execution_count": 74,
   "metadata": {},
   "outputs": [
    {
     "data": {
      "image/png": "[encoded data removed]",
      "text/plain": [
       "<Figure size 432x288 with 1 Axes>"
      ]
     },
     "metadata": {
      "needs_background": "light"
     },
     "output_type": "display_data"
    },
    {
     "name": "stdout",
     "output_type": "stream",
     "text": [
      "Scores: [0.7517993469864876, 0.7517789695635642, 0.751819077795546, 0.751799174677137, 0.7515818077353458, 0.7518427766219702, 0.7516427644203574, 0.7517463626753396] max: 0.7518427766219702\n",
      "Best C is  100.0\n"
     ]
    }
   ],
   "source": [
    "plt.plot(pows, scores)\n",
    "plt.xlabel('log(c)')\n",
    "plt.ylabel('score')\n",
    "plt.show()\n",
    "max_score = max(scores)\n",
    "print('Scores:', scores , 'max:', max_score)\n",
    "print('Best C is ', c_values[scores.index(max_score)])"
   ]
  },
  {
   "cell_type": "markdown",
   "metadata": {},
   "source": [
    "### 6. Постройте предсказания вероятностей победы команды Radiant для тестовой выборки с помощью лучшей из изученных моделей (лучшей с точки зрения AUC-ROC на кросс-валидации). Убедитесь, что предсказанные вероятности адекватные — находятся на отрезке [0, 1], не совпадают между собой (т.е. что модель не получилась константной)."
   ]
  },
  {
   "cell_type": "code",
   "execution_count": 75,
   "metadata": {},
   "outputs": [],
   "source": [
    "data = pd.read_csv('./features_test.csv',index_col='match_id')\n",
    "data.fillna(0,inplace = True)\n",
    "\n",
    "\n",
    "X_pick = np.zeros((data.shape[0], 112))\n",
    "\n",
    "for i, match_id in enumerate(data.index):\n",
    "    for p in range(5):\n",
    "        X_pick[i, data.ix[match_id, 'r%d_hero' % (p+1)]-1] = 1\n",
    "        X_pick[i, data.ix[match_id, 'd%d_hero' % (p+1)]-1] = -1\n",
    "        \n",
    "data.drop([\n",
    "    'lobby_type',\n",
    "    'r1_hero',\n",
    "    'r2_hero',\n",
    "    'r3_hero',\n",
    "    'r4_hero',\n",
    "    'r5_hero',\n",
    "    'd1_hero',\n",
    "    'd2_hero',\n",
    "    'd3_hero',\n",
    "    'd4_hero',\n",
    "    'd5_hero',\n",
    "],axis = 1, inplace = True)\n",
    "\n",
    "X_test = np.hstack((data.values, X_pick))\n",
    "X_test = StandardScaler().fit_transform(X_test)"
   ]
  },
  {
   "cell_type": "code",
   "execution_count": 76,
   "metadata": {},
   "outputs": [
    {
     "data": {
      "text/plain": [
       "LogisticRegression(C=0.1, class_weight=None, dual=False, fit_intercept=True,\n",
       "          intercept_scaling=1, max_iter=100, multi_class='ovr', n_jobs=1,\n",
       "          penalty='l2', random_state=None, solver='liblinear', tol=0.0001,\n",
       "          verbose=0, warm_start=False)"
      ]
     },
     "execution_count": 76,
     "metadata": {},
     "output_type": "execute_result"
    }
   ],
   "source": [
    "model = LogisticRegression(C=0.1)\n",
    "model.fit(X_train, y_train)"
   ]
  },
  {
   "cell_type": "code",
   "execution_count": 77,
   "metadata": {},
   "outputs": [
    {
     "name": "stdout",
     "output_type": "stream",
     "text": [
      "max: 0.9964712543352054\n",
      "min: 0.008688602959339875\n"
     ]
    }
   ],
   "source": [
    "scores = model.predict_proba(X_test)\n",
    "scores = [scores[i][1] for i in range(len(scores))]\n",
    "\n",
    "print('max:', max(scores))\n",
    "print('min:', min(scores))"
   ]
  },
  {
   "cell_type": "markdown",
   "metadata": {},
   "source": [
    "## Отчет"
   ]
  },
  {
   "cell_type": "markdown",
   "metadata": {},
   "source": [
    "### 1. Какое качество получилось у логистической регрессии над всеми исходными признаками? Как оно соотносится с качеством градиентного бустинга? Чем вы можете объяснить эту разницу? Быстрее ли работает логистическая регрессия по сравнению с градиентным бустингом?"
   ]
  },
  {
   "cell_type": "markdown",
   "metadata": {},
   "source": [
    "Наилучшее полученное качество модели 0.7165328931824468, что выше значений, полученных при использовании градиентного бустинга. Чтобы получить более высокое качество, необходимо обучить больше деревьев, что будет долго, а логистическая регрессия работает намного быстрее градиентного бустинга и дает лучшие оценки."
   ]
  },
  {
   "cell_type": "markdown",
   "metadata": {},
   "source": [
    "### 2. Как влияет на качество логистической регрессии удаление категориальных признаков (укажите новое значение метрики качества)? Чем вы можете объяснить это изменение?"
   ]
  },
  {
   "cell_type": "markdown",
   "metadata": {},
   "source": [
    "Новое значение метрики качества 0.716570299528914 выше, чем было без удаления категориальных признаков. Это говорит о том, что категориальные признаки вносили некоторый шум, что осложняло процесс обучения, из-за чего качество было ниже."
   ]
  },
  {
   "cell_type": "markdown",
   "metadata": {},
   "source": [
    "### 3. Сколько различных идентификаторов героев существует в данной игре?"
   ]
  },
  {
   "cell_type": "markdown",
   "metadata": {},
   "source": [
    "108"
   ]
  },
  {
   "cell_type": "markdown",
   "metadata": {},
   "source": [
    "### 4. Какое получилось качество при добавлении \"мешка слов\" по героям? Улучшилось ли оно по сравнению с предыдущим вариантом? Чем вы можете это объяснить?"
   ]
  },
  {
   "cell_type": "markdown",
   "metadata": {},
   "source": [
    "0.7518427766219702, качество улучшилось. Это произошло из-за того, что признаки стали не категориальными, т.е. представление стало более удобным для проведения вычислении, что привело к повышению качества."
   ]
  },
  {
   "cell_type": "markdown",
   "metadata": {},
   "source": [
    "### 5. Какое минимальное и максимальное значение прогноза на тестовой выборке получилось у лучшего из алгоритмов?"
   ]
  },
  {
   "cell_type": "markdown",
   "metadata": {},
   "source": [
    "max: 0.9964712543352054  \n",
    "min: 0.008688602959339875"
   ]
  },
  {
   "cell_type": "code",
   "execution_count": null,
   "metadata": {},
   "outputs": [],
   "source": []
  }
 ],
 "metadata": {
  "kernelspec": {
   "display_name": "Python 3",
   "language": "python",
   "name": "python3"
  },
  "language_info": {
   "codemirror_mode": {
    "name": "ipython",
    "version": 3
   },
   "file_extension": ".py",
   "mimetype": "text/x-python",
   "name": "python",
   "nbconvert_exporter": "python",
   "pygments_lexer": "ipython3",
   "version": "3.6.5"
  }
 },
 "nbformat": 4,
 "nbformat_minor": 1
}
